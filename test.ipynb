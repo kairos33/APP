{
 "cells": [
  {
   "cell_type": "code",
   "execution_count": 26,
   "id": "e499ea32",
   "metadata": {},
   "outputs": [],
   "source": [
    "mem_dic = {'기둥':[],'보':['일반','상부'],'슬래브, 벽체, 내수압슬래브, 지하외벽':['피복=20','피복=30','피복=40이상'],'기초':['@150미만-일반','@150미만-상부','@150이상-일반','@150이상-상부'],}\n"
   ]
  },
  {
   "cell_type": "code",
   "execution_count": 28,
   "id": "508781df",
   "metadata": {},
   "outputs": [
    {
     "data": {
      "text/plain": [
       "['기둥', '보', '슬래브, 벽체, 내수압슬래브, 지하외벽', '기초']"
      ]
     },
     "execution_count": 28,
     "metadata": {},
     "output_type": "execute_result"
    }
   ],
   "source": [
    "mem_list = list(mem_dic.keys())\n",
    "mem_list"
   ]
  },
  {
   "cell_type": "code",
   "execution_count": 30,
   "id": "43db6eff",
   "metadata": {},
   "outputs": [
    {
     "data": {
      "text/plain": [
       "['피복=20', '피복=30', '피복=40이상']"
      ]
     },
     "execution_count": 30,
     "metadata": {},
     "output_type": "execute_result"
    }
   ],
   "source": [
    "mem = '슬래브, 벽체, 내수압슬래브, 지하외벽'\n",
    "loca_list = mem_dic[mem]\n",
    "loca_list"
   ]
  },
  {
   "cell_type": "code",
   "execution_count": null,
   "id": "c43960e6",
   "metadata": {},
   "outputs": [],
   "source": [
    "\n",
    "loca = st.pills('구분', loca_list)"
   ]
  }
 ],
 "metadata": {
  "kernelspec": {
   "display_name": "Python 3",
   "language": "python",
   "name": "python3"
  },
  "language_info": {
   "codemirror_mode": {
    "name": "ipython",
    "version": 3
   },
   "file_extension": ".py",
   "mimetype": "text/x-python",
   "name": "python",
   "nbconvert_exporter": "python",
   "pygments_lexer": "ipython3",
   "version": "3.13.3"
  }
 },
 "nbformat": 4,
 "nbformat_minor": 5
}
